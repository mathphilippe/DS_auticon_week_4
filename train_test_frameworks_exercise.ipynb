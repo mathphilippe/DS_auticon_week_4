{
 "cells": [
  {
   "cell_type": "markdown",
   "metadata": {},
   "source": [
    "# Train Test Frameworks\n",
    "These are simple exercises for practicing syntax of various functions from sklearn that split data into the train and test sets. The goal is to get familiar with these methods prior to the more complex challenge at the end of the day."
   ]
  },
  {
   "cell_type": "code",
   "execution_count": 1,
   "metadata": {
    "ExecuteTime": {
     "end_time": "2020-04-27T07:17:19.733929Z",
     "start_time": "2020-04-27T07:17:19.730983Z"
    }
   },
   "outputs": [],
   "source": [
    "# import numpy\n",
    "import numpy as np"
   ]
  },
  {
   "cell_type": "code",
   "execution_count": 2,
   "metadata": {
    "ExecuteTime": {
     "end_time": "2020-04-27T07:17:20.442277Z",
     "start_time": "2020-04-27T07:17:20.436036Z"
    }
   },
   "outputs": [],
   "source": [
    "X = np.random.normal(0,1,20).reshape(10,2)\n",
    "y = np.random.normal(0,1,10)\n",
    "np.random.seed(271828)"
   ]
  },
  {
   "cell_type": "markdown",
   "metadata": {},
   "source": [
    "* print X"
   ]
  },
  {
   "cell_type": "code",
   "execution_count": 3,
   "metadata": {
    "ExecuteTime": {
     "end_time": "2020-02-25T10:10:05.516072Z",
     "start_time": "2020-02-25T10:10:05.507842Z"
    }
   },
   "outputs": [
    {
     "name": "stdout",
     "output_type": "stream",
     "text": [
      "[[-0.57749249  1.42341079]\n",
      " [ 0.97651345  0.34289788]\n",
      " [-0.33681155  1.6083165 ]\n",
      " [-1.09859099 -0.69628411]\n",
      " [-1.02589343  0.04778327]\n",
      " [ 2.52066908  1.91447518]\n",
      " [-0.06753617 -0.02550297]\n",
      " [-0.00308864  0.68350246]\n",
      " [ 1.50033267 -0.07847466]\n",
      " [ 1.68149367 -0.14352784]]\n"
     ]
    }
   ],
   "source": [
    "print(X)"
   ]
  },
  {
   "cell_type": "markdown",
   "metadata": {},
   "source": [
    "* print y"
   ]
  },
  {
   "cell_type": "code",
   "execution_count": 4,
   "metadata": {
    "ExecuteTime": {
     "end_time": "2020-02-25T10:10:06.238921Z",
     "start_time": "2020-02-25T10:10:06.228202Z"
    }
   },
   "outputs": [
    {
     "name": "stdout",
     "output_type": "stream",
     "text": [
      "[-1.04157415 -0.30250863  1.96263308 -0.62293946 -0.09079828 -0.68463503\n",
      "  0.25392417 -0.4647509   0.15381532 -0.28450289]\n"
     ]
    }
   ],
   "source": [
    "print(y)"
   ]
  },
  {
   "cell_type": "markdown",
   "metadata": {},
   "source": [
    "## HOLDOUT split"
   ]
  },
  {
   "cell_type": "markdown",
   "metadata": {},
   "source": [
    "* import train_test_split function from sklearn"
   ]
  },
  {
   "cell_type": "code",
   "execution_count": 5,
   "metadata": {
    "ExecuteTime": {
     "end_time": "2020-04-27T07:19:36.229754Z",
     "start_time": "2020-04-27T07:19:36.224380Z"
    }
   },
   "outputs": [],
   "source": [
    "from sklearn.model_selection import train_test_split"
   ]
  },
  {
   "cell_type": "markdown",
   "metadata": {},
   "source": [
    "* split the data to train set (70%) and test set (30%)"
   ]
  },
  {
   "cell_type": "code",
   "execution_count": 6,
   "metadata": {
    "ExecuteTime": {
     "end_time": "2020-04-27T07:19:36.690033Z",
     "start_time": "2020-04-27T07:19:36.679323Z"
    }
   },
   "outputs": [],
   "source": [
    "X_train, X_test, y_train, y_test = train_test_split(X, y, train_size = 0.7, test_size = 0.3)"
   ]
  },
  {
   "cell_type": "markdown",
   "metadata": {},
   "source": [
    "* print X_train"
   ]
  },
  {
   "cell_type": "code",
   "execution_count": 7,
   "metadata": {
    "ExecuteTime": {
     "end_time": "2020-04-27T07:19:37.410555Z",
     "start_time": "2020-04-27T07:19:37.384346Z"
    }
   },
   "outputs": [
    {
     "name": "stdout",
     "output_type": "stream",
     "text": [
      "[[-0.00308864  0.68350246]\n",
      " [ 1.50033267 -0.07847466]\n",
      " [ 2.52066908  1.91447518]\n",
      " [-0.57749249  1.42341079]\n",
      " [ 0.97651345  0.34289788]\n",
      " [-0.06753617 -0.02550297]\n",
      " [-0.33681155  1.6083165 ]]\n"
     ]
    }
   ],
   "source": [
    "print(X_train)"
   ]
  },
  {
   "cell_type": "markdown",
   "metadata": {},
   "source": [
    "* split the data again but now with  shuttle=False"
   ]
  },
  {
   "cell_type": "code",
   "execution_count": 8,
   "metadata": {
    "ExecuteTime": {
     "end_time": "2020-04-27T07:19:38.392368Z",
     "start_time": "2020-04-27T07:19:38.387406Z"
    }
   },
   "outputs": [],
   "source": [
    "X_train, X_test, y_train, y_test = train_test_split(X, y, train_size = 0.7, test_size = 0.3,\n",
    "                                                    shuffle = False)"
   ]
  },
  {
   "cell_type": "markdown",
   "metadata": {},
   "source": [
    "* print X_train"
   ]
  },
  {
   "cell_type": "code",
   "execution_count": 9,
   "metadata": {
    "ExecuteTime": {
     "end_time": "2020-04-27T07:19:56.965372Z",
     "start_time": "2020-04-27T07:19:56.954696Z"
    }
   },
   "outputs": [
    {
     "name": "stdout",
     "output_type": "stream",
     "text": [
      "[[-0.57749249  1.42341079]\n",
      " [ 0.97651345  0.34289788]\n",
      " [-0.33681155  1.6083165 ]\n",
      " [-1.09859099 -0.69628411]\n",
      " [-1.02589343  0.04778327]\n",
      " [ 2.52066908  1.91447518]\n",
      " [-0.06753617 -0.02550297]]\n"
     ]
    }
   ],
   "source": [
    "print(X_train)"
   ]
  },
  {
   "cell_type": "markdown",
   "metadata": {},
   "source": [
    "* print shape of X_train and X_test"
   ]
  },
  {
   "cell_type": "code",
   "execution_count": 10,
   "metadata": {},
   "outputs": [
    {
     "name": "stdout",
     "output_type": "stream",
     "text": [
      "(7, 2) (3, 2)\n"
     ]
    }
   ],
   "source": [
    "print(X_train.shape, X_test.shape)"
   ]
  },
  {
   "cell_type": "markdown",
   "metadata": {},
   "source": [
    "## K-FOLD split "
   ]
  },
  {
   "cell_type": "markdown",
   "metadata": {},
   "source": [
    "* import KFold from sklearn"
   ]
  },
  {
   "cell_type": "code",
   "execution_count": 11,
   "metadata": {
    "ExecuteTime": {
     "end_time": "2020-04-27T07:20:20.040524Z",
     "start_time": "2020-04-27T07:20:20.034774Z"
    }
   },
   "outputs": [],
   "source": [
    "from sklearn.model_selection import KFold"
   ]
  },
  {
   "cell_type": "markdown",
   "metadata": {},
   "source": [
    "* instantiate KFold with k=5"
   ]
  },
  {
   "cell_type": "code",
   "execution_count": 12,
   "metadata": {
    "ExecuteTime": {
     "end_time": "2020-04-27T07:21:02.886273Z",
     "start_time": "2020-04-27T07:21:02.882100Z"
    }
   },
   "outputs": [],
   "source": [
    "kf = KFold(n_splits = 5)"
   ]
  },
  {
   "cell_type": "markdown",
   "metadata": {},
   "source": [
    "* iterate over train_index and test_index in kf.split(X) and print them"
   ]
  },
  {
   "cell_type": "code",
   "execution_count": 21,
   "metadata": {
    "ExecuteTime": {
     "end_time": "2020-04-27T07:21:30.570119Z",
     "start_time": "2020-04-27T07:21:30.560118Z"
    }
   },
   "outputs": [
    {
     "name": "stdout",
     "output_type": "stream",
     "text": [
      "X_train:  [[-0.57749249  1.42341079]\n",
      " [ 0.97651345  0.34289788]\n",
      " [-0.33681155  1.6083165 ]\n",
      " [-1.09859099 -0.69628411]\n",
      " [-1.02589343  0.04778327]\n",
      " [ 2.52066908  1.91447518]\n",
      " [-0.00308864  0.68350246]\n",
      " [ 1.68149367 -0.14352784]] \n",
      "X_test:  [[-0.06753617 -0.02550297]\n",
      " [ 1.50033267 -0.07847466]] \n",
      "y_train:  [-1.04157415 -0.30250863  1.96263308 -0.62293946 -0.09079828 -0.68463503\n",
      " -0.4647509  -0.28450289] \n",
      "y_test:  [0.25392417 0.15381532]\n",
      "X_train:  [[-0.57749249  1.42341079]\n",
      " [ 0.97651345  0.34289788]\n",
      " [-0.33681155  1.6083165 ]\n",
      " [ 2.52066908  1.91447518]\n",
      " [-0.06753617 -0.02550297]\n",
      " [-0.00308864  0.68350246]\n",
      " [ 1.50033267 -0.07847466]\n",
      " [ 1.68149367 -0.14352784]] \n",
      "X_test:  [[-1.09859099 -0.69628411]\n",
      " [-1.02589343  0.04778327]] \n",
      "y_train:  [-1.04157415 -0.30250863  1.96263308 -0.68463503  0.25392417 -0.4647509\n",
      "  0.15381532 -0.28450289] \n",
      "y_test:  [-0.62293946 -0.09079828]\n",
      "X_train:  [[ 0.97651345  0.34289788]\n",
      " [-1.09859099 -0.69628411]\n",
      " [-1.02589343  0.04778327]\n",
      " [ 2.52066908  1.91447518]\n",
      " [-0.06753617 -0.02550297]\n",
      " [-0.00308864  0.68350246]\n",
      " [ 1.50033267 -0.07847466]\n",
      " [ 1.68149367 -0.14352784]] \n",
      "X_test:  [[-0.57749249  1.42341079]\n",
      " [-0.33681155  1.6083165 ]] \n",
      "y_train:  [-0.30250863 -0.62293946 -0.09079828 -0.68463503  0.25392417 -0.4647509\n",
      "  0.15381532 -0.28450289] \n",
      "y_test:  [-1.04157415  1.96263308]\n",
      "X_train:  [[-0.57749249  1.42341079]\n",
      " [ 0.97651345  0.34289788]\n",
      " [-0.33681155  1.6083165 ]\n",
      " [-1.09859099 -0.69628411]\n",
      " [-1.02589343  0.04778327]\n",
      " [-0.06753617 -0.02550297]\n",
      " [ 1.50033267 -0.07847466]\n",
      " [ 1.68149367 -0.14352784]] \n",
      "X_test:  [[ 2.52066908  1.91447518]\n",
      " [-0.00308864  0.68350246]] \n",
      "y_train:  [-1.04157415 -0.30250863  1.96263308 -0.62293946 -0.09079828  0.25392417\n",
      "  0.15381532 -0.28450289] \n",
      "y_test:  [-0.68463503 -0.4647509 ]\n",
      "X_train:  [[-0.57749249  1.42341079]\n",
      " [-0.33681155  1.6083165 ]\n",
      " [-1.09859099 -0.69628411]\n",
      " [-1.02589343  0.04778327]\n",
      " [ 2.52066908  1.91447518]\n",
      " [-0.06753617 -0.02550297]\n",
      " [-0.00308864  0.68350246]\n",
      " [ 1.50033267 -0.07847466]] \n",
      "X_test:  [[ 0.97651345  0.34289788]\n",
      " [ 1.68149367 -0.14352784]] \n",
      "y_train:  [-1.04157415  1.96263308 -0.62293946 -0.09079828 -0.68463503  0.25392417\n",
      " -0.4647509   0.15381532] \n",
      "y_test:  [-0.30250863 -0.28450289]\n"
     ]
    }
   ],
   "source": [
    "for train_index, test_index in kf.split(X):\n",
    "    X_train, X_test = X[train_index], X[test_index]\n",
    "    y_train, y_test = y[train_index], y[test_index]\n",
    "    print(\"X_train: \", X_train, \"\\nX_test: \", X_test, \"\\ny_train: \", y_train, \"\\ny_test: \", y_test)"
   ]
  },
  {
   "cell_type": "markdown",
   "metadata": {},
   "source": [
    "* instantiate KFold with k=5 and shuffle=True"
   ]
  },
  {
   "cell_type": "code",
   "execution_count": 16,
   "metadata": {
    "ExecuteTime": {
     "end_time": "2020-04-27T07:21:52.693825Z",
     "start_time": "2020-04-27T07:21:52.687089Z"
    }
   },
   "outputs": [],
   "source": [
    "kf = KFold(n_splits = 5, shuffle = True)"
   ]
  },
  {
   "cell_type": "markdown",
   "metadata": {},
   "source": [
    "* iterate over train_index and test_index in kf.split(X) and print them"
   ]
  },
  {
   "cell_type": "code",
   "execution_count": 22,
   "metadata": {
    "ExecuteTime": {
     "end_time": "2020-02-25T10:19:37.219179Z",
     "start_time": "2020-02-25T10:19:37.210814Z"
    }
   },
   "outputs": [
    {
     "name": "stdout",
     "output_type": "stream",
     "text": [
      "X_train:  [[-0.57749249  1.42341079]\n",
      " [-0.33681155  1.6083165 ]\n",
      " [-1.09859099 -0.69628411]\n",
      " [-1.02589343  0.04778327]\n",
      " [-0.06753617 -0.02550297]\n",
      " [-0.00308864  0.68350246]\n",
      " [ 1.50033267 -0.07847466]\n",
      " [ 1.68149367 -0.14352784]] \n",
      "X_test:  [[0.97651345 0.34289788]\n",
      " [2.52066908 1.91447518]] \n",
      "y_train:  [-1.04157415  1.96263308 -0.62293946 -0.09079828  0.25392417 -0.4647509\n",
      "  0.15381532 -0.28450289] \n",
      "y_test:  [-0.30250863 -0.68463503]\n",
      "X_train:  [[ 0.97651345  0.34289788]\n",
      " [-0.33681155  1.6083165 ]\n",
      " [-1.09859099 -0.69628411]\n",
      " [-1.02589343  0.04778327]\n",
      " [ 2.52066908  1.91447518]\n",
      " [-0.06753617 -0.02550297]\n",
      " [-0.00308864  0.68350246]\n",
      " [ 1.50033267 -0.07847466]] \n",
      "X_test:  [[-0.57749249  1.42341079]\n",
      " [ 1.68149367 -0.14352784]] \n",
      "y_train:  [-0.30250863  1.96263308 -0.62293946 -0.09079828 -0.68463503  0.25392417\n",
      " -0.4647509   0.15381532] \n",
      "y_test:  [-1.04157415 -0.28450289]\n",
      "X_train:  [[-0.57749249  1.42341079]\n",
      " [ 0.97651345  0.34289788]\n",
      " [-0.33681155  1.6083165 ]\n",
      " [-1.09859099 -0.69628411]\n",
      " [-1.02589343  0.04778327]\n",
      " [ 2.52066908  1.91447518]\n",
      " [-0.00308864  0.68350246]\n",
      " [ 1.68149367 -0.14352784]] \n",
      "X_test:  [[-0.06753617 -0.02550297]\n",
      " [ 1.50033267 -0.07847466]] \n",
      "y_train:  [-1.04157415 -0.30250863  1.96263308 -0.62293946 -0.09079828 -0.68463503\n",
      " -0.4647509  -0.28450289] \n",
      "y_test:  [0.25392417 0.15381532]\n",
      "X_train:  [[-0.57749249  1.42341079]\n",
      " [ 0.97651345  0.34289788]\n",
      " [-0.33681155  1.6083165 ]\n",
      " [-1.09859099 -0.69628411]\n",
      " [ 2.52066908  1.91447518]\n",
      " [-0.06753617 -0.02550297]\n",
      " [ 1.50033267 -0.07847466]\n",
      " [ 1.68149367 -0.14352784]] \n",
      "X_test:  [[-1.02589343  0.04778327]\n",
      " [-0.00308864  0.68350246]] \n",
      "y_train:  [-1.04157415 -0.30250863  1.96263308 -0.62293946 -0.68463503  0.25392417\n",
      "  0.15381532 -0.28450289] \n",
      "y_test:  [-0.09079828 -0.4647509 ]\n",
      "X_train:  [[-0.57749249  1.42341079]\n",
      " [ 0.97651345  0.34289788]\n",
      " [-1.02589343  0.04778327]\n",
      " [ 2.52066908  1.91447518]\n",
      " [-0.06753617 -0.02550297]\n",
      " [-0.00308864  0.68350246]\n",
      " [ 1.50033267 -0.07847466]\n",
      " [ 1.68149367 -0.14352784]] \n",
      "X_test:  [[-0.33681155  1.6083165 ]\n",
      " [-1.09859099 -0.69628411]] \n",
      "y_train:  [-1.04157415 -0.30250863 -0.09079828 -0.68463503  0.25392417 -0.4647509\n",
      "  0.15381532 -0.28450289] \n",
      "y_test:  [ 1.96263308 -0.62293946]\n"
     ]
    }
   ],
   "source": [
    "for train_index, test_index in kf.split(X):\n",
    "    X_train, X_test = X[train_index], X[test_index]\n",
    "    y_train, y_test = y[train_index], y[test_index]\n",
    "    print(\"X_train: \", X_train, \"\\nX_test: \", X_test, \"\\ny_train: \", y_train, \"\\ny_test: \", y_test)"
   ]
  },
  {
   "cell_type": "markdown",
   "metadata": {
    "ExecuteTime": {
     "end_time": "2020-02-25T10:20:50.997776Z",
     "start_time": "2020-02-25T10:20:50.991967Z"
    }
   },
   "source": [
    "## LEAVE-ONE-OUT split\n",
    "this is a similar technique like the Leave-p-out in the previous readings, with p=1. Each observation is used as test set separately.\n",
    "- it's popular method for very small datasets\n",
    "- takes a lot of time for bigger data and can lead to overfitting of a final model."
   ]
  },
  {
   "cell_type": "markdown",
   "metadata": {},
   "source": [
    "* import LeaveOneOut from sklearn"
   ]
  },
  {
   "cell_type": "code",
   "execution_count": 18,
   "metadata": {
    "ExecuteTime": {
     "end_time": "2020-04-27T07:22:57.562338Z",
     "start_time": "2020-04-27T07:22:57.557038Z"
    }
   },
   "outputs": [],
   "source": [
    "from sklearn.model_selection import LeaveOneOut"
   ]
  },
  {
   "cell_type": "markdown",
   "metadata": {},
   "source": [
    "* instantiate LeaveOneOut"
   ]
  },
  {
   "cell_type": "code",
   "execution_count": 26,
   "metadata": {
    "ExecuteTime": {
     "end_time": "2020-04-27T07:22:58.073776Z",
     "start_time": "2020-04-27T07:22:58.069381Z"
    }
   },
   "outputs": [],
   "source": [
    "loo = LeaveOneOut()"
   ]
  },
  {
   "cell_type": "markdown",
   "metadata": {},
   "source": [
    "* iterate over train_index and test_index in loo.split(X) and print them"
   ]
  },
  {
   "cell_type": "code",
   "execution_count": 27,
   "metadata": {
    "ExecuteTime": {
     "end_time": "2020-04-27T07:23:15.893291Z",
     "start_time": "2020-04-27T07:23:15.882373Z"
    }
   },
   "outputs": [
    {
     "name": "stdout",
     "output_type": "stream",
     "text": [
      "X_train:  [[ 0.97651345  0.34289788]\n",
      " [-0.33681155  1.6083165 ]\n",
      " [-1.09859099 -0.69628411]\n",
      " [-1.02589343  0.04778327]\n",
      " [ 2.52066908  1.91447518]\n",
      " [-0.06753617 -0.02550297]\n",
      " [-0.00308864  0.68350246]\n",
      " [ 1.50033267 -0.07847466]\n",
      " [ 1.68149367 -0.14352784]] \n",
      "X_test:  [[-0.57749249  1.42341079]] \n",
      "y_train:  [-0.30250863  1.96263308 -0.62293946 -0.09079828 -0.68463503  0.25392417\n",
      " -0.4647509   0.15381532 -0.28450289] \n",
      "y_test:  [-1.04157415]\n",
      "X_train:  [[-0.57749249  1.42341079]\n",
      " [-0.33681155  1.6083165 ]\n",
      " [-1.09859099 -0.69628411]\n",
      " [-1.02589343  0.04778327]\n",
      " [ 2.52066908  1.91447518]\n",
      " [-0.06753617 -0.02550297]\n",
      " [-0.00308864  0.68350246]\n",
      " [ 1.50033267 -0.07847466]\n",
      " [ 1.68149367 -0.14352784]] \n",
      "X_test:  [[0.97651345 0.34289788]] \n",
      "y_train:  [-1.04157415  1.96263308 -0.62293946 -0.09079828 -0.68463503  0.25392417\n",
      " -0.4647509   0.15381532 -0.28450289] \n",
      "y_test:  [-0.30250863]\n",
      "X_train:  [[-0.57749249  1.42341079]\n",
      " [ 0.97651345  0.34289788]\n",
      " [-1.09859099 -0.69628411]\n",
      " [-1.02589343  0.04778327]\n",
      " [ 2.52066908  1.91447518]\n",
      " [-0.06753617 -0.02550297]\n",
      " [-0.00308864  0.68350246]\n",
      " [ 1.50033267 -0.07847466]\n",
      " [ 1.68149367 -0.14352784]] \n",
      "X_test:  [[-0.33681155  1.6083165 ]] \n",
      "y_train:  [-1.04157415 -0.30250863 -0.62293946 -0.09079828 -0.68463503  0.25392417\n",
      " -0.4647509   0.15381532 -0.28450289] \n",
      "y_test:  [1.96263308]\n",
      "X_train:  [[-0.57749249  1.42341079]\n",
      " [ 0.97651345  0.34289788]\n",
      " [-0.33681155  1.6083165 ]\n",
      " [-1.02589343  0.04778327]\n",
      " [ 2.52066908  1.91447518]\n",
      " [-0.06753617 -0.02550297]\n",
      " [-0.00308864  0.68350246]\n",
      " [ 1.50033267 -0.07847466]\n",
      " [ 1.68149367 -0.14352784]] \n",
      "X_test:  [[-1.09859099 -0.69628411]] \n",
      "y_train:  [-1.04157415 -0.30250863  1.96263308 -0.09079828 -0.68463503  0.25392417\n",
      " -0.4647509   0.15381532 -0.28450289] \n",
      "y_test:  [-0.62293946]\n",
      "X_train:  [[-0.57749249  1.42341079]\n",
      " [ 0.97651345  0.34289788]\n",
      " [-0.33681155  1.6083165 ]\n",
      " [-1.09859099 -0.69628411]\n",
      " [ 2.52066908  1.91447518]\n",
      " [-0.06753617 -0.02550297]\n",
      " [-0.00308864  0.68350246]\n",
      " [ 1.50033267 -0.07847466]\n",
      " [ 1.68149367 -0.14352784]] \n",
      "X_test:  [[-1.02589343  0.04778327]] \n",
      "y_train:  [-1.04157415 -0.30250863  1.96263308 -0.62293946 -0.68463503  0.25392417\n",
      " -0.4647509   0.15381532 -0.28450289] \n",
      "y_test:  [-0.09079828]\n",
      "X_train:  [[-0.57749249  1.42341079]\n",
      " [ 0.97651345  0.34289788]\n",
      " [-0.33681155  1.6083165 ]\n",
      " [-1.09859099 -0.69628411]\n",
      " [-1.02589343  0.04778327]\n",
      " [-0.06753617 -0.02550297]\n",
      " [-0.00308864  0.68350246]\n",
      " [ 1.50033267 -0.07847466]\n",
      " [ 1.68149367 -0.14352784]] \n",
      "X_test:  [[2.52066908 1.91447518]] \n",
      "y_train:  [-1.04157415 -0.30250863  1.96263308 -0.62293946 -0.09079828  0.25392417\n",
      " -0.4647509   0.15381532 -0.28450289] \n",
      "y_test:  [-0.68463503]\n",
      "X_train:  [[-0.57749249  1.42341079]\n",
      " [ 0.97651345  0.34289788]\n",
      " [-0.33681155  1.6083165 ]\n",
      " [-1.09859099 -0.69628411]\n",
      " [-1.02589343  0.04778327]\n",
      " [ 2.52066908  1.91447518]\n",
      " [-0.00308864  0.68350246]\n",
      " [ 1.50033267 -0.07847466]\n",
      " [ 1.68149367 -0.14352784]] \n",
      "X_test:  [[-0.06753617 -0.02550297]] \n",
      "y_train:  [-1.04157415 -0.30250863  1.96263308 -0.62293946 -0.09079828 -0.68463503\n",
      " -0.4647509   0.15381532 -0.28450289] \n",
      "y_test:  [0.25392417]\n",
      "X_train:  [[-0.57749249  1.42341079]\n",
      " [ 0.97651345  0.34289788]\n",
      " [-0.33681155  1.6083165 ]\n",
      " [-1.09859099 -0.69628411]\n",
      " [-1.02589343  0.04778327]\n",
      " [ 2.52066908  1.91447518]\n",
      " [-0.06753617 -0.02550297]\n",
      " [ 1.50033267 -0.07847466]\n",
      " [ 1.68149367 -0.14352784]] \n",
      "X_test:  [[-0.00308864  0.68350246]] \n",
      "y_train:  [-1.04157415 -0.30250863  1.96263308 -0.62293946 -0.09079828 -0.68463503\n",
      "  0.25392417  0.15381532 -0.28450289] \n",
      "y_test:  [-0.4647509]\n",
      "X_train:  [[-0.57749249  1.42341079]\n",
      " [ 0.97651345  0.34289788]\n",
      " [-0.33681155  1.6083165 ]\n",
      " [-1.09859099 -0.69628411]\n",
      " [-1.02589343  0.04778327]\n",
      " [ 2.52066908  1.91447518]\n",
      " [-0.06753617 -0.02550297]\n",
      " [-0.00308864  0.68350246]\n",
      " [ 1.68149367 -0.14352784]] \n",
      "X_test:  [[ 1.50033267 -0.07847466]] \n",
      "y_train:  [-1.04157415 -0.30250863  1.96263308 -0.62293946 -0.09079828 -0.68463503\n",
      "  0.25392417 -0.4647509  -0.28450289] \n",
      "y_test:  [0.15381532]\n",
      "X_train:  [[-0.57749249  1.42341079]\n",
      " [ 0.97651345  0.34289788]\n",
      " [-0.33681155  1.6083165 ]\n",
      " [-1.09859099 -0.69628411]\n",
      " [-1.02589343  0.04778327]\n",
      " [ 2.52066908  1.91447518]\n",
      " [-0.06753617 -0.02550297]\n",
      " [-0.00308864  0.68350246]\n",
      " [ 1.50033267 -0.07847466]] \n",
      "X_test:  [[ 1.68149367 -0.14352784]] \n",
      "y_train:  [-1.04157415 -0.30250863  1.96263308 -0.62293946 -0.09079828 -0.68463503\n",
      "  0.25392417 -0.4647509   0.15381532] \n",
      "y_test:  [-0.28450289]\n"
     ]
    }
   ],
   "source": [
    "for train_index, test_index in loo.split(X):\n",
    "    X_train, X_test = X[train_index], X[test_index]\n",
    "    y_train, y_test = y[train_index], y[test_index]\n",
    "    print(\"X_train: \", X_train, \"\\nX_test: \", X_test, \"\\ny_train: \", y_train, \"\\ny_test: \", y_test)"
   ]
  },
  {
   "cell_type": "markdown",
   "metadata": {
    "ExecuteTime": {
     "end_time": "2020-04-27T07:23:32.091854Z",
     "start_time": "2020-04-27T07:23:32.084557Z"
    }
   },
   "source": [
    "* print the number of splits"
   ]
  },
  {
   "cell_type": "code",
   "execution_count": 28,
   "metadata": {
    "ExecuteTime": {
     "end_time": "2020-04-27T07:23:44.088113Z",
     "start_time": "2020-04-27T07:23:44.079901Z"
    }
   },
   "outputs": [
    {
     "data": {
      "text/plain": [
       "10"
      ]
     },
     "execution_count": 28,
     "metadata": {},
     "output_type": "execute_result"
    }
   ],
   "source": [
    "loo.get_n_splits(X)"
   ]
  }
 ],
 "metadata": {
  "kernelspec": {
   "display_name": "Python 3",
   "language": "python",
   "name": "python3"
  },
  "language_info": {
   "codemirror_mode": {
    "name": "ipython",
    "version": 3
   },
   "file_extension": ".py",
   "mimetype": "text/x-python",
   "name": "python",
   "nbconvert_exporter": "python",
   "pygments_lexer": "ipython3",
   "version": "3.8.3"
  },
  "toc": {
   "base_numbering": 1,
   "nav_menu": {},
   "number_sections": true,
   "sideBar": true,
   "skip_h1_title": false,
   "title_cell": "Table of Contents",
   "title_sidebar": "Contents",
   "toc_cell": false,
   "toc_position": {},
   "toc_section_display": true,
   "toc_window_display": false
  },
  "varInspector": {
   "cols": {
    "lenName": 16,
    "lenType": 16,
    "lenVar": 40
   },
   "kernels_config": {
    "python": {
     "delete_cmd_postfix": "",
     "delete_cmd_prefix": "del ",
     "library": "var_list.py",
     "varRefreshCmd": "print(var_dic_list())"
    },
    "r": {
     "delete_cmd_postfix": ") ",
     "delete_cmd_prefix": "rm(",
     "library": "var_list.r",
     "varRefreshCmd": "cat(var_dic_list()) "
    }
   },
   "types_to_exclude": [
    "module",
    "function",
    "builtin_function_or_method",
    "instance",
    "_Feature"
   ],
   "window_display": false
  }
 },
 "nbformat": 4,
 "nbformat_minor": 4
}
